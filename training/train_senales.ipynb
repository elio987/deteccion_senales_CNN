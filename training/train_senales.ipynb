{
  "nbformat": 4,
  "nbformat_minor": 0,
  "metadata": {
    "colab": {
      "name": "train_senales.ipynb",
      "provenance": [],
      "collapsed_sections": [],
      "machine_shape": "hm"
    },
    "kernelspec": {
      "name": "python3",
      "display_name": "Python 3"
    },
    "language_info": {
      "name": "python"
    },
    "accelerator": "GPU"
  },
  "cells": [
    {
      "cell_type": "markdown",
      "source": [
        "# Leonardo Gracida Munoz A01379812\n",
        "# Nancy L. García Jiménez A01378043\n",
        "## Red neuronal detectora de senales de trafico\n",
        "Link hacia dataset grande (DATASET) usada en drive:<br>\n",
        "https://drive.google.com/drive/folders/1fA9DtcOlEPpT_WcOAAgDyHBUZyQvRG0R?usp=sharing<br>\n",
        "Link hacia dataset pequena (dataset_red) usada en drive:<br>\n",
        "https://drive.google.com/drive/folders/1-3hc9RzfkL2eOIG2YRX-q0-WGxtW_DMA?usp=sharing\n",
        "\n",
        "Sitio original de la dataset:<br>\n",
        "https://benchmark.ini.rub.de/gtsrb_news.html\n",
        "\n",
        "Link hacia repositorio donde esta el codigo para poder clasificar imagenes:\n"
      ],
      "metadata": {
        "id": "xKO_VHA6loDR"
      }
    },
    {
      "cell_type": "code",
      "execution_count": null,
      "metadata": {
        "colab": {
          "base_uri": "https://localhost:8080/"
        },
        "id": "0ei4v2E8OKpg",
        "outputId": "87e24c85-bbe1-44e4-d8ad-8408075cc8fe"
      },
      "outputs": [
        {
          "output_type": "stream",
          "name": "stdout",
          "text": [
            "Looking in indexes: https://pypi.org/simple, https://us-python.pkg.dev/colab-wheels/public/simple/\n",
            "Requirement already satisfied: tensorflow-gpu==2.4.0 in /usr/local/lib/python3.7/dist-packages (2.4.0)\n",
            "Requirement already satisfied: six~=1.15.0 in /usr/local/lib/python3.7/dist-packages (from tensorflow-gpu==2.4.0) (1.15.0)\n",
            "Requirement already satisfied: absl-py~=0.10 in /usr/local/lib/python3.7/dist-packages (from tensorflow-gpu==2.4.0) (0.15.0)\n",
            "Requirement already satisfied: opt-einsum~=3.3.0 in /usr/local/lib/python3.7/dist-packages (from tensorflow-gpu==2.4.0) (3.3.0)\n",
            "Requirement already satisfied: gast==0.3.3 in /usr/local/lib/python3.7/dist-packages (from tensorflow-gpu==2.4.0) (0.3.3)\n",
            "Requirement already satisfied: tensorboard~=2.4 in /usr/local/lib/python3.7/dist-packages (from tensorflow-gpu==2.4.0) (2.8.0)\n",
            "Requirement already satisfied: google-pasta~=0.2 in /usr/local/lib/python3.7/dist-packages (from tensorflow-gpu==2.4.0) (0.2.0)\n",
            "Requirement already satisfied: h5py~=2.10.0 in /usr/local/lib/python3.7/dist-packages (from tensorflow-gpu==2.4.0) (2.10.0)\n",
            "Requirement already satisfied: protobuf>=3.9.2 in /usr/local/lib/python3.7/dist-packages (from tensorflow-gpu==2.4.0) (3.17.3)\n",
            "Requirement already satisfied: wheel~=0.35 in /usr/local/lib/python3.7/dist-packages (from tensorflow-gpu==2.4.0) (0.37.1)\n",
            "Requirement already satisfied: wrapt~=1.12.1 in /usr/local/lib/python3.7/dist-packages (from tensorflow-gpu==2.4.0) (1.12.1)\n",
            "Requirement already satisfied: termcolor~=1.1.0 in /usr/local/lib/python3.7/dist-packages (from tensorflow-gpu==2.4.0) (1.1.0)\n",
            "Requirement already satisfied: flatbuffers~=1.12.0 in /usr/local/lib/python3.7/dist-packages (from tensorflow-gpu==2.4.0) (1.12)\n",
            "Requirement already satisfied: astunparse~=1.6.3 in /usr/local/lib/python3.7/dist-packages (from tensorflow-gpu==2.4.0) (1.6.3)\n",
            "Requirement already satisfied: numpy~=1.19.2 in /usr/local/lib/python3.7/dist-packages (from tensorflow-gpu==2.4.0) (1.19.5)\n",
            "Requirement already satisfied: grpcio~=1.32.0 in /usr/local/lib/python3.7/dist-packages (from tensorflow-gpu==2.4.0) (1.32.0)\n",
            "Requirement already satisfied: typing-extensions~=3.7.4 in /usr/local/lib/python3.7/dist-packages (from tensorflow-gpu==2.4.0) (3.7.4.3)\n",
            "Requirement already satisfied: tensorflow-estimator<2.5.0,>=2.4.0rc0 in /usr/local/lib/python3.7/dist-packages (from tensorflow-gpu==2.4.0) (2.4.0)\n",
            "Requirement already satisfied: keras-preprocessing~=1.1.2 in /usr/local/lib/python3.7/dist-packages (from tensorflow-gpu==2.4.0) (1.1.2)\n",
            "Requirement already satisfied: setuptools>=41.0.0 in /usr/local/lib/python3.7/dist-packages (from tensorboard~=2.4->tensorflow-gpu==2.4.0) (57.4.0)\n",
            "Requirement already satisfied: werkzeug>=0.11.15 in /usr/local/lib/python3.7/dist-packages (from tensorboard~=2.4->tensorflow-gpu==2.4.0) (1.0.1)\n",
            "Requirement already satisfied: google-auth<3,>=1.6.3 in /usr/local/lib/python3.7/dist-packages (from tensorboard~=2.4->tensorflow-gpu==2.4.0) (1.35.0)\n",
            "Requirement already satisfied: tensorboard-plugin-wit>=1.6.0 in /usr/local/lib/python3.7/dist-packages (from tensorboard~=2.4->tensorflow-gpu==2.4.0) (1.8.1)\n",
            "Requirement already satisfied: tensorboard-data-server<0.7.0,>=0.6.0 in /usr/local/lib/python3.7/dist-packages (from tensorboard~=2.4->tensorflow-gpu==2.4.0) (0.6.1)\n",
            "Requirement already satisfied: google-auth-oauthlib<0.5,>=0.4.1 in /usr/local/lib/python3.7/dist-packages (from tensorboard~=2.4->tensorflow-gpu==2.4.0) (0.4.6)\n",
            "Requirement already satisfied: requests<3,>=2.21.0 in /usr/local/lib/python3.7/dist-packages (from tensorboard~=2.4->tensorflow-gpu==2.4.0) (2.23.0)\n",
            "Requirement already satisfied: markdown>=2.6.8 in /usr/local/lib/python3.7/dist-packages (from tensorboard~=2.4->tensorflow-gpu==2.4.0) (3.3.7)\n",
            "Requirement already satisfied: pyasn1-modules>=0.2.1 in /usr/local/lib/python3.7/dist-packages (from google-auth<3,>=1.6.3->tensorboard~=2.4->tensorflow-gpu==2.4.0) (0.2.8)\n",
            "Requirement already satisfied: cachetools<5.0,>=2.0.0 in /usr/local/lib/python3.7/dist-packages (from google-auth<3,>=1.6.3->tensorboard~=2.4->tensorflow-gpu==2.4.0) (4.2.4)\n",
            "Requirement already satisfied: rsa<5,>=3.1.4 in /usr/local/lib/python3.7/dist-packages (from google-auth<3,>=1.6.3->tensorboard~=2.4->tensorflow-gpu==2.4.0) (4.8)\n",
            "Requirement already satisfied: requests-oauthlib>=0.7.0 in /usr/local/lib/python3.7/dist-packages (from google-auth-oauthlib<0.5,>=0.4.1->tensorboard~=2.4->tensorflow-gpu==2.4.0) (1.3.1)\n",
            "Requirement already satisfied: importlib-metadata>=4.4 in /usr/local/lib/python3.7/dist-packages (from markdown>=2.6.8->tensorboard~=2.4->tensorflow-gpu==2.4.0) (4.11.3)\n",
            "Requirement already satisfied: zipp>=0.5 in /usr/local/lib/python3.7/dist-packages (from importlib-metadata>=4.4->markdown>=2.6.8->tensorboard~=2.4->tensorflow-gpu==2.4.0) (3.8.0)\n",
            "Requirement already satisfied: pyasn1<0.5.0,>=0.4.6 in /usr/local/lib/python3.7/dist-packages (from pyasn1-modules>=0.2.1->google-auth<3,>=1.6.3->tensorboard~=2.4->tensorflow-gpu==2.4.0) (0.4.8)\n",
            "Requirement already satisfied: chardet<4,>=3.0.2 in /usr/local/lib/python3.7/dist-packages (from requests<3,>=2.21.0->tensorboard~=2.4->tensorflow-gpu==2.4.0) (3.0.4)\n",
            "Requirement already satisfied: urllib3!=1.25.0,!=1.25.1,<1.26,>=1.21.1 in /usr/local/lib/python3.7/dist-packages (from requests<3,>=2.21.0->tensorboard~=2.4->tensorflow-gpu==2.4.0) (1.24.3)\n",
            "Requirement already satisfied: certifi>=2017.4.17 in /usr/local/lib/python3.7/dist-packages (from requests<3,>=2.21.0->tensorboard~=2.4->tensorflow-gpu==2.4.0) (2022.5.18.1)\n",
            "Requirement already satisfied: idna<3,>=2.5 in /usr/local/lib/python3.7/dist-packages (from requests<3,>=2.21.0->tensorboard~=2.4->tensorflow-gpu==2.4.0) (2.10)\n",
            "Requirement already satisfied: oauthlib>=3.0.0 in /usr/local/lib/python3.7/dist-packages (from requests-oauthlib>=0.7.0->google-auth-oauthlib<0.5,>=0.4.1->tensorboard~=2.4->tensorflow-gpu==2.4.0) (3.2.0)\n",
            "Sat May 28 15:18:38 2022       \n",
            "+-----------------------------------------------------------------------------+\n",
            "| NVIDIA-SMI 460.32.03    Driver Version: 460.32.03    CUDA Version: 11.2     |\n",
            "|-------------------------------+----------------------+----------------------+\n",
            "| GPU  Name        Persistence-M| Bus-Id        Disp.A | Volatile Uncorr. ECC |\n",
            "| Fan  Temp  Perf  Pwr:Usage/Cap|         Memory-Usage | GPU-Util  Compute M. |\n",
            "|                               |                      |               MIG M. |\n",
            "|===============================+======================+======================|\n",
            "|   0  Tesla P100-PCIE...  Off  | 00000000:00:04.0 Off |                    0 |\n",
            "| N/A   38C    P0    27W / 250W |      0MiB / 16280MiB |      0%      Default |\n",
            "|                               |                      |                  N/A |\n",
            "+-------------------------------+----------------------+----------------------+\n",
            "                                                                               \n",
            "+-----------------------------------------------------------------------------+\n",
            "| Processes:                                                                  |\n",
            "|  GPU   GI   CI        PID   Type   Process name                  GPU Memory |\n",
            "|        ID   ID                                                   Usage      |\n",
            "|=============================================================================|\n",
            "|  No running processes found                                                 |\n",
            "+-----------------------------------------------------------------------------+\n"
          ]
        }
      ],
      "source": [
        "#Importamos la libreria de tensorflow que usa el gpu\n",
        "!pip install tensorflow-gpu==2.4.0\n",
        "#mostramos la targeta grafica a usar\n",
        "!nvidia-smi"
      ]
    },
    {
      "cell_type": "code",
      "source": [
        "#Importamos la dataset de google drive\n",
        "from google.colab import drive\n",
        "drive.mount('/content/drive')"
      ],
      "metadata": {
        "colab": {
          "base_uri": "https://localhost:8080/"
        },
        "id": "l8EjkNeNWoD_",
        "outputId": "ff7f4b6c-7774-44ba-d724-b6732efc5cac"
      },
      "execution_count": null,
      "outputs": [
        {
          "output_type": "stream",
          "name": "stdout",
          "text": [
            "Mounted at /content/drive\n"
          ]
        }
      ]
    },
    {
      "cell_type": "code",
      "source": [
        "#Importamos todas las librerias necesarias a usar\n",
        "from tensorflow.keras.models import Sequential\n",
        "from tensorflow.keras.layers import BatchNormalization\n",
        "from tensorflow.keras.layers import Conv2D\n",
        "from tensorflow.keras.layers import MaxPooling2D\n",
        "from tensorflow.keras.layers import Activation\n",
        "from tensorflow.keras.layers import Flatten\n",
        "from tensorflow.keras.layers import Dropout\n",
        "from tensorflow.keras.layers import Dense\n",
        "from tensorflow.keras.optimizers import Adam\n",
        "import numpy as np\n",
        "import matplotlib.pyplot as plt\n",
        "from tensorflow.keras.utils import to_categorical\n",
        "import cv2\n",
        "from sklearn.model_selection import train_test_split\n",
        "import os\n",
        "from tensorflow.keras.preprocessing.image import ImageDataGenerator\n",
        "\n",
        "def myModel(inputShape,clases):\n",
        "    \"\"\"Funcion que crea el modelo de la red neuronal obteniendo los paramteros\n",
        "    de el tamano de la imagen y el numero de clases a clasificar\"\"\"\n",
        "    #Selección de hiperparamteros                                                                                                                                                                                                                                                                                                                                                                                                                          \n",
        "    # Tamano de los filtros a usar en los Conv2D                                                                                                                                                                                   \n",
        "    size_of_Filter=(5,5)                                                                                                                                                                                                         \n",
        "    size_of_Filter2=(3,3)                                                                                                                                                                                                        \n",
        "    # Tekes batches of 2x2 pixels and avg the  \n",
        "    # Tamamos batches de 2x2 para disminuir la informacion obtenida del Conv2D                                                                                                                                                                                  \n",
        "    size_of_pool=(2,2)                                                                                                                                                                                                           \n",
        "    model = Sequential()\n",
        "    model.add(Conv2D(60, size_of_Filter,input_shape=inputShape))\n",
        "    model.add(Activation(\"relu\"))\n",
        "    model.add(BatchNormalization(axis=-1))\n",
        "    model.add(Conv2D(60, size_of_Filter))\n",
        "    model.add(Activation(\"relu\"))\n",
        "    model.add(BatchNormalization(axis=-1))\n",
        "    model.add(MaxPooling2D(pool_size=size_of_pool))\n",
        "    model.add(Conv2D(30, size_of_Filter2))\n",
        "    model.add(Activation(\"relu\"))\n",
        "    model.add(BatchNormalization(axis=-1))\n",
        "    model.add(Conv2D(30, size_of_Filter2))\n",
        "    model.add(Activation(\"relu\"))\n",
        "    model.add(BatchNormalization(axis=-1))\n",
        "    model.add(MaxPooling2D(pool_size=size_of_pool))\n",
        "    model.add(Dropout(0.4))\n",
        "    model.add(Flatten())\n",
        "    model.add(Dense(300))\n",
        "    model.add(Activation(\"relu\"))\n",
        "    model.add(BatchNormalization())\n",
        "    model.add(Dropout(0.4))\n",
        "    model.add(Flatten())\n",
        "    model.add(Dense(300))\n",
        "    model.add(Activation(\"relu\"))\n",
        "    model.add(BatchNormalization())\n",
        "    model.add(Dropout(0.4))\n",
        "    model.add(Dense(clases))\n",
        "    model.add(Activation(\"softmax\"))\n",
        "    return model\n",
        "#Path de la carpeta donde se encuentra el DATASET a utilizar\n",
        "path = \"/content/drive/MyDrive/dataset_red/Train\" #En caso de que quieras entrenar la deteccion de 6 senales diferentes\n",
        "#path = \"/content/drive/MyDrive/DATASETrain\" #En caso de que quieras detectar 43 senales diferentes\n",
        "print(\"Clases totales detectadas: \",len(myList))\n",
        "clases = len(myList)\n",
        "#Dimensiones de la imagen a usar\n",
        "imageDimesions = (64,64,3)\n",
        "#Creamos el modelo\n",
        "model = myModel(imageDimesions,clases)\n",
        "#Construimos el modelo\n",
        "model.build()\n",
        "#El tamano de lote a usar \n",
        "batch_size_val=16\n",
        "#El numero de epochs s usar\n",
        "epochs_val=75\n",
        "testRatio = 0.2 #Proporcion de en cuanto vamos a dividir el DATASET el train y test\n",
        "gamma = 1     #Factor de crecimiento de aprendizaje\n",
        "learningRate = gamma * 1e-3\n",
        "#Creamos un potimizador tipo Adam\n",
        "cnnOptimizer = Adam(lr=learningRate, decay=learningRate / (epochs_val * 0.5))\n",
        "#Compilamos el modelo\n",
        "print(\"Compilando modelo...\")\n",
        "model.compile(loss=\"categorical_crossentropy\", optimizer=cnnOptimizer, metrics=[\"accuracy\"])\n",
        "print(\"Modelo compilado\")\n"
      ],
      "metadata": {
        "id": "MHfCOx13OQnX",
        "colab": {
          "base_uri": "https://localhost:8080/"
        },
        "outputId": "2d798d7a-2f8c-436d-e772-c7206f163b4e"
      },
      "execution_count": null,
      "outputs": [
        {
          "output_type": "stream",
          "name": "stdout",
          "text": [
            "Clases totales detectadas:  6\n",
            "Compilando modelo...\n",
            "Modelo compilado\n"
          ]
        }
      ]
    },
    {
      "cell_type": "code",
      "source": [
        "def preprocessing(img):\n",
        "  \"\"\"Funcion que preporcesa la imagen a usar\"\"\"\n",
        "  img=cv2.cvtColor(img, cv2.COLOR_BGR2RGB)\n",
        "  img = img/255\n",
        "  return img"
      ],
      "metadata": {
        "id": "FaPL9HWEOvAJ"
      },
      "execution_count": 66,
      "outputs": []
    },
    {
      "cell_type": "code",
      "source": [
        "#Esto lo corremos una vez para poder extraer el zip del dataset en drive\n",
        "\"\"\"import zipfile\n",
        "TMP_DATA_DIR = \"/content/drive/MyDrive/dataset_red\"\n",
        "to_unpack = [\n",
        "    (\"/content/drive/MyDrive/Train_red.zip\", TMP_DATA_DIR),\n",
        "\n",
        "]\n",
        " \n",
        "for file, directory in to_unpack:\n",
        "    print(\"Unzipping {} to {}...\".format(file, directory))\n",
        "    with zipfile.ZipFile(file,\"r\") as zip_ref:\n",
        "        zip_ref.extractall(directory)\"\"\""
      ],
      "metadata": {
        "colab": {
          "base_uri": "https://localhost:8080/",
          "height": 52
        },
        "id": "S55ipLuhZusD",
        "outputId": "ef14b20e-25fb-4f2b-f2c4-066c4b7c3aaf"
      },
      "execution_count": null,
      "outputs": [
        {
          "output_type": "execute_result",
          "data": {
            "text/plain": [
              "'import zipfile\\nTMP_DATA_DIR = \"/content/drive/MyDrive/dataset_red\"\\nto_unpack = [\\n    (\"/content/drive/MyDrive/Train_red.zip\", TMP_DATA_DIR),\\n\\n]\\n \\nfor file, directory in to_unpack:\\n    print(\"Unzipping {} to {}...\".format(file, directory))\\n    with zipfile.ZipFile(file,\"r\") as zip_ref:\\n        zip_ref.extractall(directory)'"
            ],
            "application/vnd.google.colaboratory.intrinsic+json": {
              "type": "string"
            }
          },
          "metadata": {},
          "execution_count": 50
        }
      ]
    },
    {
      "cell_type": "code",
      "source": [
        "#Extraemos las imagenes de la carpeta del dataset con cv2\n",
        "count = 0\n",
        "images = []\n",
        "classNo = []\n",
        "print(\"Importando Imagenes: \")\n",
        "for i in myList:\n",
        "    imageList = os.path.join(path,i)\n",
        "    for j in os.listdir(imageList):\n",
        "        imgPath = os.path.join(imageList,j)\n",
        "        label = i\n",
        "        curImg = cv2.imread(imgPath)\n",
        "        #Le cambiamos el tamano a la imagen\n",
        "        curImg = cv2.resize(curImg,(imageDimesions[1],imageDimesions[0]))\n",
        "        #Preprocesamos la imagen\n",
        "        curImg = preprocessing(curImg)\n",
        "        images.append(curImg)\n",
        "        classNo.append(int(i))\n",
        "    print(count, end =\" \")\n",
        "    count +=1"
      ],
      "metadata": {
        "colab": {
          "base_uri": "https://localhost:8080/"
        },
        "id": "H-qqml9AXF_7",
        "outputId": "d4763c2f-0717-4075-8c34-4153f5011243"
      },
      "execution_count": null,
      "outputs": [
        {
          "output_type": "stream",
          "name": "stdout",
          "text": [
            "Importando Imagenes: \n",
            "0 1 2 3 4 5 "
          ]
        }
      ]
    },
    {
      "cell_type": "code",
      "source": [
        "print(\"Numero de imagenes importadas: \",len(images))\n",
        "images = np.array(images)\n",
        "print(\"Dimensiones de las imgenes extraidas: \",images.shape)\n",
        "classNo = np.array(classNo)"
      ],
      "metadata": {
        "colab": {
          "base_uri": "https://localhost:8080/"
        },
        "id": "qcuPCIQzhf0Z",
        "outputId": "dddb4cb8-b24d-4adf-eddc-b30289a5365d"
      },
      "execution_count": null,
      "outputs": [
        {
          "output_type": "stream",
          "name": "stdout",
          "text": [
            "Numero de imagenes importadas:  3689\n",
            "Dimensiones de las imgenes extraidas:  (3689, 64, 64, 3)\n"
          ]
        }
      ]
    },
    {
      "cell_type": "code",
      "source": [
        "#Dividimos la dataset en una parte para train y otr parte para test\n",
        "X_train, X_test, y_train, y_test = train_test_split(images, classNo, test_size=testRatio)\n",
        "#Cambismos los labels a modo categorical\n",
        "y_test = to_categorical(y_test, clases)\n",
        "y_train = to_categorical(y_train, clases)\n",
        "print(\"Labels en modo categorical\")\n",
        "print(y_train.shape)\n",
        "print(y_test.shape)\n",
        "classTotal = y_train.sum(axis=0)\n",
        "classWeight = classTotal.max() / classTotal\n",
        "print(\"Proporcion de cada tipo de muestra en el dateset usado:\")\n",
        "print(classWeight)\n",
        "classWeight = {i: classWeight[i] for i in range(len(classWeight))}"
      ],
      "metadata": {
        "colab": {
          "base_uri": "https://localhost:8080/"
        },
        "id": "9uldsRfOXcMC",
        "outputId": "e5f29424-914b-4806-f8ed-df7a0fbf982a"
      },
      "execution_count": null,
      "outputs": [
        {
          "output_type": "stream",
          "name": "stdout",
          "text": [
            "Labels en modo categorical\n",
            "(2951, 6)\n",
            "(738, 6)\n",
            "Proporcion de cada tipo de muestra en el dateset usado:\n",
            "[1.5566188 5.1368423 1.8175046 2.9575758 1.        3.353952 ]\n"
          ]
        }
      ]
    },
    {
      "cell_type": "code",
      "source": [
        "print(\"Resumen de modelo de la red neuronal:\")\n",
        "print(model.summary())"
      ],
      "metadata": {
        "colab": {
          "base_uri": "https://localhost:8080/"
        },
        "id": "IXS6AYQohoHB",
        "outputId": "15f9169e-2044-4981-912d-68e9d5e54be8"
      },
      "execution_count": null,
      "outputs": [
        {
          "output_type": "stream",
          "name": "stdout",
          "text": [
            "Resumen de modelo de la red neuronal:\n",
            "Model: \"sequential_6\"\n",
            "_________________________________________________________________\n",
            "Layer (type)                 Output Shape              Param #   \n",
            "=================================================================\n",
            "conv2d_24 (Conv2D)           (None, 60, 60, 60)        4560      \n",
            "_________________________________________________________________\n",
            "activation_42 (Activation)   (None, 60, 60, 60)        0         \n",
            "_________________________________________________________________\n",
            "batch_normalization_36 (Batc (None, 60, 60, 60)        240       \n",
            "_________________________________________________________________\n",
            "conv2d_25 (Conv2D)           (None, 56, 56, 60)        90060     \n",
            "_________________________________________________________________\n",
            "activation_43 (Activation)   (None, 56, 56, 60)        0         \n",
            "_________________________________________________________________\n",
            "batch_normalization_37 (Batc (None, 56, 56, 60)        240       \n",
            "_________________________________________________________________\n",
            "max_pooling2d_12 (MaxPooling (None, 28, 28, 60)        0         \n",
            "_________________________________________________________________\n",
            "conv2d_26 (Conv2D)           (None, 26, 26, 30)        16230     \n",
            "_________________________________________________________________\n",
            "activation_44 (Activation)   (None, 26, 26, 30)        0         \n",
            "_________________________________________________________________\n",
            "batch_normalization_38 (Batc (None, 26, 26, 30)        120       \n",
            "_________________________________________________________________\n",
            "conv2d_27 (Conv2D)           (None, 24, 24, 30)        8130      \n",
            "_________________________________________________________________\n",
            "activation_45 (Activation)   (None, 24, 24, 30)        0         \n",
            "_________________________________________________________________\n",
            "batch_normalization_39 (Batc (None, 24, 24, 30)        120       \n",
            "_________________________________________________________________\n",
            "max_pooling2d_13 (MaxPooling (None, 12, 12, 30)        0         \n",
            "_________________________________________________________________\n",
            "dropout_18 (Dropout)         (None, 12, 12, 30)        0         \n",
            "_________________________________________________________________\n",
            "flatten_12 (Flatten)         (None, 4320)              0         \n",
            "_________________________________________________________________\n",
            "dense_18 (Dense)             (None, 300)               1296300   \n",
            "_________________________________________________________________\n",
            "activation_46 (Activation)   (None, 300)               0         \n",
            "_________________________________________________________________\n",
            "batch_normalization_40 (Batc (None, 300)               1200      \n",
            "_________________________________________________________________\n",
            "dropout_19 (Dropout)         (None, 300)               0         \n",
            "_________________________________________________________________\n",
            "flatten_13 (Flatten)         (None, 300)               0         \n",
            "_________________________________________________________________\n",
            "dense_19 (Dense)             (None, 300)               90300     \n",
            "_________________________________________________________________\n",
            "activation_47 (Activation)   (None, 300)               0         \n",
            "_________________________________________________________________\n",
            "batch_normalization_41 (Batc (None, 300)               1200      \n",
            "_________________________________________________________________\n",
            "dropout_20 (Dropout)         (None, 300)               0         \n",
            "_________________________________________________________________\n",
            "dense_20 (Dense)             (None, 6)                 1806      \n",
            "_________________________________________________________________\n",
            "activation_48 (Activation)   (None, 6)                 0         \n",
            "=================================================================\n",
            "Total params: 1,510,506\n",
            "Trainable params: 1,508,946\n",
            "Non-trainable params: 1,560\n",
            "_________________________________________________________________\n",
            "None\n"
          ]
        }
      ]
    },
    {
      "cell_type": "code",
      "source": [
        "#Generacion de ruido en las imagenes\n",
        "dataGen = ImageDataGenerator(\n",
        "    rotation_range=5,\n",
        "    zoom_range=0.1,\n",
        "    width_shift_range=0.1,\n",
        "    height_shift_range=0.1,\n",
        "    shear_range=0.15,\n",
        "    fill_mode=\"nearest\")"
      ],
      "metadata": {
        "id": "yaF6K489iYpO"
      },
      "execution_count": null,
      "outputs": []
    },
    {
      "cell_type": "code",
      "source": [
        "#Entrenamos el modelo\n",
        "H = model.fit(dataGen.flow(X_train, y_train, batch_size=batch_size_val),validation_data=(X_test, y_test),\n",
        "          steps_per_epoch=X_train.shape[0] // batch_size_val,epochs=epochs_val,\n",
        "          class_weight=classWeight,\n",
        "          verbose=1)\n",
        "#Salvamos el modelo\n",
        "model.save('/content/drive/MyDrive/OUTPUT/signals_5_student.model')\n",
        "\n",
        "plt.style.use(\"ggplot\")\n",
        "plt.figure()\n",
        "\n",
        "#Guardamos el historial del modelo\n",
        "N = np.arange(0, epochs_val)\n",
        "\n",
        "#Ploteamos el comportamiento de la accuracy y loos function en el entrenamiento\n",
        "plt.plot(N, H.history[\"loss\"], label=\"train_loss\")\n",
        "plt.plot(N, H.history[\"val_loss\"], label=\"val_loss\")\n",
        "plt.plot(N, H.history[\"accuracy\"], label=\"train_acc\")\n",
        "plt.plot(N, H.history[\"val_accuracy\"], label=\"val_acc\")\n",
        "plt.title(\"Training Loss and Accuracy on Dataset\")\n",
        "plt.xlabel(\"Epoch #\")\n",
        "plt.ylabel(\"Loss/Accuracy\")\n",
        "plt.legend(loc=\"lower left\")\n",
        "plt.show()\n",
        "#Guardamos el modelo\n",
        "plt.savefig(\"/content/drive/MyDrive/OUTPUT\")\n",
        "print(\"Comportamiento de accuracy y loss function guardado en: \"+\"/content/drive/MyDrive/OUTPUT\")\n",
        "print(\"Entrenamiento comletado\")"
      ],
      "metadata": {
        "colab": {
          "base_uri": "https://localhost:8080/",
          "height": 1000
        },
        "id": "uhsvS_t2hr8Q",
        "outputId": "bcaf3b1f-b9c3-45f5-f77d-3f34b7a1f704"
      },
      "execution_count": null,
      "outputs": [
        {
          "output_type": "stream",
          "name": "stdout",
          "text": [
            "Epoch 1/75\n",
            "184/184 [==============================] - 6s 25ms/step - loss: 2.9250 - accuracy: 0.4842 - val_loss: 7.4173 - val_accuracy: 0.0678\n",
            "Epoch 2/75\n",
            "184/184 [==============================] - 4s 24ms/step - loss: 1.4400 - accuracy: 0.7494 - val_loss: 0.3223 - val_accuracy: 0.8970\n",
            "Epoch 3/75\n",
            "184/184 [==============================] - 4s 23ms/step - loss: 0.7747 - accuracy: 0.8592 - val_loss: 0.1726 - val_accuracy: 0.9458\n",
            "Epoch 4/75\n",
            "184/184 [==============================] - 4s 24ms/step - loss: 0.6180 - accuracy: 0.8944 - val_loss: 0.1255 - val_accuracy: 0.9661\n",
            "Epoch 5/75\n",
            "184/184 [==============================] - 4s 24ms/step - loss: 0.4295 - accuracy: 0.9316 - val_loss: 0.1615 - val_accuracy: 0.9499\n",
            "Epoch 6/75\n",
            "184/184 [==============================] - 4s 24ms/step - loss: 0.4614 - accuracy: 0.9294 - val_loss: 0.0233 - val_accuracy: 0.9959\n",
            "Epoch 7/75\n",
            "184/184 [==============================] - 4s 24ms/step - loss: 0.2669 - accuracy: 0.9503 - val_loss: 0.4001 - val_accuracy: 0.8808\n",
            "Epoch 8/75\n",
            "184/184 [==============================] - 4s 24ms/step - loss: 0.2443 - accuracy: 0.9634 - val_loss: 0.0859 - val_accuracy: 0.9688\n",
            "Epoch 9/75\n",
            "184/184 [==============================] - 4s 24ms/step - loss: 0.2062 - accuracy: 0.9685 - val_loss: 0.1074 - val_accuracy: 0.9607\n",
            "Epoch 10/75\n",
            "184/184 [==============================] - 4s 24ms/step - loss: 0.2319 - accuracy: 0.9642 - val_loss: 0.1438 - val_accuracy: 0.9499\n",
            "Epoch 11/75\n",
            "184/184 [==============================] - 5s 24ms/step - loss: 0.2170 - accuracy: 0.9632 - val_loss: 0.0023 - val_accuracy: 1.0000\n",
            "Epoch 12/75\n",
            "184/184 [==============================] - 4s 23ms/step - loss: 0.1118 - accuracy: 0.9875 - val_loss: 0.2152 - val_accuracy: 0.9621\n",
            "Epoch 13/75\n",
            "184/184 [==============================] - 4s 23ms/step - loss: 0.2409 - accuracy: 0.9584 - val_loss: 0.2875 - val_accuracy: 0.9228\n",
            "Epoch 14/75\n",
            "184/184 [==============================] - 4s 24ms/step - loss: 0.1896 - accuracy: 0.9684 - val_loss: 0.0037 - val_accuracy: 0.9986\n",
            "Epoch 15/75\n",
            "184/184 [==============================] - 4s 24ms/step - loss: 0.1388 - accuracy: 0.9722 - val_loss: 0.0590 - val_accuracy: 0.9837\n",
            "Epoch 16/75\n",
            "184/184 [==============================] - 4s 24ms/step - loss: 0.1093 - accuracy: 0.9813 - val_loss: 0.0021 - val_accuracy: 1.0000\n",
            "Epoch 17/75\n",
            "184/184 [==============================] - 4s 24ms/step - loss: 0.1069 - accuracy: 0.9778 - val_loss: 6.5569e-04 - val_accuracy: 1.0000\n",
            "Epoch 18/75\n",
            "184/184 [==============================] - 4s 24ms/step - loss: 0.0567 - accuracy: 0.9862 - val_loss: 0.0016 - val_accuracy: 1.0000\n",
            "Epoch 19/75\n",
            "184/184 [==============================] - 4s 23ms/step - loss: 0.0753 - accuracy: 0.9839 - val_loss: 0.0057 - val_accuracy: 0.9986\n",
            "Epoch 20/75\n",
            "184/184 [==============================] - 4s 24ms/step - loss: 0.1295 - accuracy: 0.9803 - val_loss: 0.0011 - val_accuracy: 1.0000\n",
            "Epoch 21/75\n",
            "184/184 [==============================] - 4s 24ms/step - loss: 0.1192 - accuracy: 0.9830 - val_loss: 0.0022 - val_accuracy: 0.9986\n",
            "Epoch 22/75\n",
            "184/184 [==============================] - 5s 25ms/step - loss: 0.1051 - accuracy: 0.9843 - val_loss: 0.0027 - val_accuracy: 1.0000\n",
            "Epoch 23/75\n",
            "184/184 [==============================] - 4s 24ms/step - loss: 0.0903 - accuracy: 0.9869 - val_loss: 0.0027 - val_accuracy: 0.9986\n",
            "Epoch 24/75\n",
            "184/184 [==============================] - 4s 23ms/step - loss: 0.0966 - accuracy: 0.9847 - val_loss: 0.0101 - val_accuracy: 0.9959\n",
            "Epoch 25/75\n",
            "184/184 [==============================] - 4s 23ms/step - loss: 0.1035 - accuracy: 0.9828 - val_loss: 0.4488 - val_accuracy: 0.9065\n",
            "Epoch 26/75\n",
            "184/184 [==============================] - 4s 23ms/step - loss: 0.1651 - accuracy: 0.9740 - val_loss: 0.0054 - val_accuracy: 0.9973\n",
            "Epoch 27/75\n",
            "184/184 [==============================] - 4s 24ms/step - loss: 0.1647 - accuracy: 0.9784 - val_loss: 0.0229 - val_accuracy: 0.9905\n",
            "Epoch 28/75\n",
            "184/184 [==============================] - 4s 24ms/step - loss: 0.0689 - accuracy: 0.9887 - val_loss: 7.9279e-04 - val_accuracy: 1.0000\n",
            "Epoch 29/75\n",
            "184/184 [==============================] - 4s 24ms/step - loss: 0.0716 - accuracy: 0.9853 - val_loss: 0.0014 - val_accuracy: 1.0000\n",
            "Epoch 30/75\n",
            "184/184 [==============================] - 4s 24ms/step - loss: 0.0416 - accuracy: 0.9923 - val_loss: 0.0110 - val_accuracy: 0.9946\n",
            "Epoch 31/75\n",
            "184/184 [==============================] - 4s 24ms/step - loss: 0.0666 - accuracy: 0.9879 - val_loss: 0.0109 - val_accuracy: 0.9973\n",
            "Epoch 32/75\n",
            "184/184 [==============================] - 4s 24ms/step - loss: 0.0910 - accuracy: 0.9846 - val_loss: 0.0015 - val_accuracy: 1.0000\n",
            "Epoch 33/75\n",
            "184/184 [==============================] - 4s 24ms/step - loss: 0.0551 - accuracy: 0.9928 - val_loss: 7.3310e-04 - val_accuracy: 1.0000\n",
            "Epoch 34/75\n",
            "184/184 [==============================] - 4s 23ms/step - loss: 0.0515 - accuracy: 0.9894 - val_loss: 1.4399e-04 - val_accuracy: 1.0000\n",
            "Epoch 35/75\n",
            "184/184 [==============================] - 4s 24ms/step - loss: 0.0290 - accuracy: 0.9939 - val_loss: 0.0015 - val_accuracy: 1.0000\n",
            "Epoch 36/75\n",
            "184/184 [==============================] - 4s 24ms/step - loss: 0.0603 - accuracy: 0.9889 - val_loss: 0.0039 - val_accuracy: 1.0000\n",
            "Epoch 37/75\n",
            "184/184 [==============================] - 4s 24ms/step - loss: 0.0939 - accuracy: 0.9849 - val_loss: 0.0294 - val_accuracy: 0.9878\n",
            "Epoch 38/75\n",
            "184/184 [==============================] - 4s 24ms/step - loss: 0.1167 - accuracy: 0.9842 - val_loss: 0.0064 - val_accuracy: 0.9986\n",
            "Epoch 39/75\n",
            "184/184 [==============================] - 4s 24ms/step - loss: 0.0388 - accuracy: 0.9911 - val_loss: 2.1626e-04 - val_accuracy: 1.0000\n",
            "Epoch 40/75\n",
            "184/184 [==============================] - 4s 24ms/step - loss: 0.0334 - accuracy: 0.9943 - val_loss: 0.0119 - val_accuracy: 0.9946\n",
            "Epoch 41/75\n",
            "184/184 [==============================] - 4s 24ms/step - loss: 0.0635 - accuracy: 0.9888 - val_loss: 0.0295 - val_accuracy: 0.9932\n",
            "Epoch 42/75\n",
            "184/184 [==============================] - 4s 24ms/step - loss: 0.0962 - accuracy: 0.9864 - val_loss: 1.1226e-04 - val_accuracy: 1.0000\n",
            "Epoch 43/75\n",
            "184/184 [==============================] - 4s 24ms/step - loss: 0.0714 - accuracy: 0.9865 - val_loss: 1.2754e-04 - val_accuracy: 1.0000\n",
            "Epoch 44/75\n",
            "184/184 [==============================] - 4s 24ms/step - loss: 0.0450 - accuracy: 0.9946 - val_loss: 3.3886e-04 - val_accuracy: 1.0000\n",
            "Epoch 45/75\n",
            "184/184 [==============================] - 4s 24ms/step - loss: 0.0498 - accuracy: 0.9906 - val_loss: 0.0132 - val_accuracy: 0.9959\n",
            "Epoch 46/75\n",
            "184/184 [==============================] - 4s 24ms/step - loss: 0.0600 - accuracy: 0.9902 - val_loss: 0.0136 - val_accuracy: 0.9959\n",
            "Epoch 47/75\n",
            "184/184 [==============================] - 4s 24ms/step - loss: 0.0507 - accuracy: 0.9902 - val_loss: 0.0568 - val_accuracy: 0.9919\n",
            "Epoch 48/75\n",
            "184/184 [==============================] - 4s 24ms/step - loss: 0.0282 - accuracy: 0.9930 - val_loss: 6.3246e-05 - val_accuracy: 1.0000\n",
            "Epoch 49/75\n",
            "184/184 [==============================] - 4s 24ms/step - loss: 0.0455 - accuracy: 0.9942 - val_loss: 2.9524e-05 - val_accuracy: 1.0000\n",
            "Epoch 50/75\n",
            "184/184 [==============================] - 4s 24ms/step - loss: 0.0324 - accuracy: 0.9928 - val_loss: 0.0609 - val_accuracy: 0.9824\n",
            "Epoch 51/75\n",
            "184/184 [==============================] - 4s 24ms/step - loss: 0.0511 - accuracy: 0.9919 - val_loss: 0.0958 - val_accuracy: 0.9783\n",
            "Epoch 52/75\n",
            "184/184 [==============================] - 4s 23ms/step - loss: 0.0363 - accuracy: 0.9944 - val_loss: 1.1983e-04 - val_accuracy: 1.0000\n",
            "Epoch 53/75\n",
            "184/184 [==============================] - 4s 23ms/step - loss: 0.0404 - accuracy: 0.9936 - val_loss: 5.9105e-05 - val_accuracy: 1.0000\n",
            "Epoch 54/75\n",
            "184/184 [==============================] - 4s 24ms/step - loss: 0.0194 - accuracy: 0.9950 - val_loss: 0.0765 - val_accuracy: 0.9688\n",
            "Epoch 55/75\n",
            "184/184 [==============================] - 4s 24ms/step - loss: 0.0414 - accuracy: 0.9933 - val_loss: 1.6085e-04 - val_accuracy: 1.0000\n",
            "Epoch 56/75\n",
            "184/184 [==============================] - 4s 24ms/step - loss: 0.0617 - accuracy: 0.9902 - val_loss: 3.2921e-04 - val_accuracy: 1.0000\n",
            "Epoch 57/75\n",
            "184/184 [==============================] - 4s 23ms/step - loss: 0.0293 - accuracy: 0.9928 - val_loss: 0.0239 - val_accuracy: 0.9946\n",
            "Epoch 58/75\n",
            "184/184 [==============================] - 4s 24ms/step - loss: 0.0945 - accuracy: 0.9864 - val_loss: 0.0015 - val_accuracy: 1.0000\n",
            "Epoch 59/75\n",
            "184/184 [==============================] - 4s 24ms/step - loss: 0.0495 - accuracy: 0.9915 - val_loss: 7.7010e-05 - val_accuracy: 1.0000\n",
            "Epoch 60/75\n",
            "184/184 [==============================] - 5s 25ms/step - loss: 0.0479 - accuracy: 0.9939 - val_loss: 1.3800e-04 - val_accuracy: 1.0000\n",
            "Epoch 61/75\n",
            "184/184 [==============================] - 4s 24ms/step - loss: 0.0321 - accuracy: 0.9944 - val_loss: 8.9678e-05 - val_accuracy: 1.0000\n",
            "Epoch 62/75\n",
            "184/184 [==============================] - 4s 24ms/step - loss: 0.0654 - accuracy: 0.9883 - val_loss: 2.1254e-04 - val_accuracy: 1.0000\n",
            "Epoch 63/75\n",
            "184/184 [==============================] - 5s 25ms/step - loss: 0.0331 - accuracy: 0.9947 - val_loss: 8.6716e-05 - val_accuracy: 1.0000\n",
            "Epoch 64/75\n",
            "184/184 [==============================] - 5s 25ms/step - loss: 0.0453 - accuracy: 0.9912 - val_loss: 2.4584e-04 - val_accuracy: 1.0000\n",
            "Epoch 65/75\n",
            "184/184 [==============================] - 4s 24ms/step - loss: 0.0202 - accuracy: 0.9954 - val_loss: 0.0103 - val_accuracy: 0.9986\n",
            "Epoch 66/75\n",
            "184/184 [==============================] - 4s 24ms/step - loss: 0.1067 - accuracy: 0.9882 - val_loss: 8.3500e-04 - val_accuracy: 1.0000\n",
            "Epoch 67/75\n",
            "184/184 [==============================] - 4s 24ms/step - loss: 0.0242 - accuracy: 0.9935 - val_loss: 4.3777e-05 - val_accuracy: 1.0000\n",
            "Epoch 68/75\n",
            "184/184 [==============================] - 5s 25ms/step - loss: 0.0158 - accuracy: 0.9976 - val_loss: 1.1184e-05 - val_accuracy: 1.0000\n",
            "Epoch 69/75\n",
            "184/184 [==============================] - 4s 24ms/step - loss: 0.0337 - accuracy: 0.9961 - val_loss: 7.3574e-05 - val_accuracy: 1.0000\n",
            "Epoch 70/75\n",
            "184/184 [==============================] - 4s 24ms/step - loss: 0.0176 - accuracy: 0.9966 - val_loss: 1.3667e-05 - val_accuracy: 1.0000\n",
            "Epoch 71/75\n",
            "184/184 [==============================] - 5s 24ms/step - loss: 0.0271 - accuracy: 0.9948 - val_loss: 0.1667 - val_accuracy: 0.9539\n",
            "Epoch 72/75\n",
            "184/184 [==============================] - 5s 24ms/step - loss: 0.1700 - accuracy: 0.9836 - val_loss: 0.0095 - val_accuracy: 0.9973\n",
            "Epoch 73/75\n",
            "184/184 [==============================] - 4s 24ms/step - loss: 0.0393 - accuracy: 0.9944 - val_loss: 7.0639e-05 - val_accuracy: 1.0000\n",
            "Epoch 74/75\n",
            "184/184 [==============================] - 4s 24ms/step - loss: 0.0380 - accuracy: 0.9923 - val_loss: 4.0295e-05 - val_accuracy: 1.0000\n",
            "Epoch 75/75\n",
            "184/184 [==============================] - 4s 24ms/step - loss: 0.0611 - accuracy: 0.9888 - val_loss: 5.4340e-04 - val_accuracy: 1.0000\n",
            "INFO:tensorflow:Assets written to: /content/drive/MyDrive/OUTPUT/signals_5_student.model/assets\n"
          ]
        },
        {
          "output_type": "display_data",
          "data": {
            "text/plain": [
              "<Figure size 432x288 with 1 Axes>"
            ],
            "image/png": "[encoded data removed]"
          },
          "metadata": {}
        },
        {
          "output_type": "stream",
          "name": "stdout",
          "text": [
            "Comportamiento de accuracy y loss function guardado en: /content/drive/MyDrive/OUTPUT\n",
            "Entrenamiento comletado\n"
          ]
        },
        {
          "output_type": "display_data",
          "data": {
            "text/plain": [
              "<Figure size 432x288 with 0 Axes>"
            ]
          },
          "metadata": {}
        }
      ]
    },
    {
      "cell_type": "code",
      "source": [
        ""
      ],
      "metadata": {
        "id": "yPw2nkoDiG8F"
      },
      "execution_count": null,
      "outputs": []
    }
  ]
}